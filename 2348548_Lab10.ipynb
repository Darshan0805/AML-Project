{
  "nbformat": 4,
  "nbformat_minor": 0,
  "metadata": {
    "colab": {
      "provenance": [],
      "authorship_tag": "ABX9TyN2IJgpIuKm7tFrBm6OG/va",
      "include_colab_link": true
    },
    "kernelspec": {
      "name": "python3",
      "display_name": "Python 3"
    },
    "language_info": {
      "name": "python"
    }
  },
  "cells": [
    {
      "cell_type": "markdown",
      "metadata": {
        "id": "view-in-github",
        "colab_type": "text"
      },
      "source": [
        "<a href=\"https://colab.research.google.com/github/Darshan0805/AML-Project/blob/main/2348548_Lab10.ipynb\" target=\"_parent\"><img src=\"https://colab.research.google.com/assets/colab-badge.svg\" alt=\"Open In Colab\"/></a>"
      ]
    },
    {
      "cell_type": "code",
      "execution_count": 14,
      "metadata": {
        "colab": {
          "base_uri": "https://localhost:8080/"
        },
        "id": "nmvJfZnW40A0",
        "outputId": "cca11366-08ee-4c3d-f28f-29ed367a3f0e"
      },
      "outputs": [
        {
          "output_type": "stream",
          "name": "stdout",
          "text": [
            "Initial Q-values:\n",
            "[[0. 0. 0. 0. 0. 0.]\n",
            " [0. 0. 0. 0. 0. 0.]\n",
            " [0. 0. 0. 0. 0. 0.]\n",
            " [0. 0. 0. 0. 0. 0.]\n",
            " [0. 0. 0. 0. 0. 0.]\n",
            " [0. 0. 0. 0. 0. 0.]]\n",
            "\n",
            "Final Q-values:\n",
            "[[  0.  -1. -10. -10.  -1. -10.]\n",
            " [-10.   0.  -1. -10. -10.  -1.]\n",
            " [-10. -10.   0.  -1. -10. -10.]\n",
            " [-10. -10. -10.   0.  -1. -10.]\n",
            " [-10. -10. -10. -10.   0.  -1.]\n",
            " [-10. -10. -10. -10. -10.   0.]]\n"
          ]
        }
      ],
      "source": [
        "import numpy as np\n",
        "import random\n",
        "\n",
        "# Define the rooms and doors\n",
        "rooms = [0, 1, 2, 3, 4, 5]\n",
        "doors = [(0,1), (0,4), (1,2), (2,3), (3,4), (4,5), (1,5)]\n",
        "\n",
        "# Define Q-value matrix\n",
        "Q = np.zeros((len(rooms), len(rooms)))\n",
        "\n",
        "# Define parameters\n",
        "alpha = 0.8\n",
        "gamma = 0.9\n",
        "epsilon = 0.1\n",
        "\n",
        "# Initialize Q-values arbitrarily\n",
        "print(\"Initial Q-values:\")\n",
        "print(Q)\n",
        "\n",
        "# Train over 10000 iterations\n",
        "for i in range(10000):\n",
        "  # Get current room\n",
        "  current_room = random.randint(0,len(rooms)-1)\n",
        "\n",
        "  # Get next room using epsilon-greedy strategy\n",
        "  if random.random() < epsilon:\n",
        "    next_room = random.randint(0,len(rooms)-1)\n",
        "  else:\n",
        "    next_room = np.argmax(Q[current_room])\n",
        "\n",
        "  # Get reward\n",
        "  reward = -1\n",
        "  if current_room == next_room:\n",
        "    reward = 0\n",
        "  elif (current_room, next_room) in doors:\n",
        "    reward = -1\n",
        "  else:\n",
        "    reward = -10\n",
        "\n",
        "  # Update Q-value\n",
        "  Q[current_room, next_room] = Q[current_room, next_room] + alpha*(reward + gamma*np.max(Q[next_room]) - Q[current_room, next_room])\n",
        "\n",
        "# Print final Q-values\n",
        "print(\"\\nFinal Q-values:\")\n",
        "print(Q)"
      ]
    },
    {
      "cell_type": "code",
      "source": [],
      "metadata": {
        "id": "ZeQhpGo-7dN9"
      },
      "execution_count": null,
      "outputs": []
    }
  ]
}