{
  "nbformat": 4,
  "nbformat_minor": 0,
  "metadata": {
    "colab": {
      "provenance": [],
      "include_colab_link": true
    },
    "kernelspec": {
      "name": "python3",
      "display_name": "Python 3"
    },
    "language_info": {
      "name": "python"
    }
  },
  "cells": [
    {
      "cell_type": "markdown",
      "metadata": {
        "id": "view-in-github",
        "colab_type": "text"
      },
      "source": [
        "<a href=\"https://colab.research.google.com/github/Darshan0805/AML-Project/blob/main/2348548_Program_5.ipynb\" target=\"_parent\"><img src=\"https://colab.research.google.com/assets/colab-badge.svg\" alt=\"Open In Colab\"/></a>"
      ]
    },
    {
      "cell_type": "code",
      "execution_count": null,
      "metadata": {
        "id": "x1Wpk_-09WaY"
      },
      "outputs": [],
      "source": [
        "import numpy as np\n",
        "import pandas as pd\n",
        "import matplotlib.pyplot as plt\n",
        "import seaborn as sns"
      ]
    },
    {
      "cell_type": "code",
      "source": [
        "df = pd.read_csv('/content/program_5_dataset - program_5_dataset.csv')"
      ],
      "metadata": {
        "id": "JOIaQAs89qVf"
      },
      "execution_count": null,
      "outputs": []
    },
    {
      "cell_type": "code",
      "source": [
        "df.head()"
      ],
      "metadata": {
        "colab": {
          "base_uri": "https://localhost:8080/",
          "height": 330
        },
        "id": "NVD-UYeI96gI",
        "outputId": "4990ad0b-de25-44cd-9fa1-c8b99f600fa4"
      },
      "execution_count": null,
      "outputs": [
        {
          "output_type": "execute_result",
          "data": {
            "text/plain": [
              "   Unnamed: 0       Category  Age Sex   ALB   ALP   ALT   AST   BIL    CHE  \\\n",
              "0           1  0=Blood Donor   32   m  38.5  52.5   7.7  22.1   7.5   6.93   \n",
              "1           2  0=Blood Donor   32   m  38.5  70.3  18.0  24.7   3.9  11.17   \n",
              "2           3  0=Blood Donor   32   m  46.9  74.7  36.2  52.6   6.1   8.84   \n",
              "3           4  0=Blood Donor   32   m  43.2  52.0  30.6  22.6  18.9   7.33   \n",
              "4           5  0=Blood Donor   32   m  39.2  74.1  32.6  24.8   9.6   9.15   \n",
              "\n",
              "   CHOL   CREA   GGT  PROT  \n",
              "0  3.23  106.0  12.1  69.0  \n",
              "1  4.80   74.0  15.6  76.5  \n",
              "2  5.20   86.0  33.2  79.3  \n",
              "3  4.74   80.0  33.8  75.7  \n",
              "4  4.32   76.0  29.9  68.7  "
            ],
            "text/html": [
              "\n",
              "  <div id=\"df-a95c37f1-8eca-4341-8fea-ad92b783a068\" class=\"colab-df-container\">\n",
              "    <div>\n",
              "<style scoped>\n",
              "    .dataframe tbody tr th:only-of-type {\n",
              "        vertical-align: middle;\n",
              "    }\n",
              "\n",
              "    .dataframe tbody tr th {\n",
              "        vertical-align: top;\n",
              "    }\n",
              "\n",
              "    .dataframe thead th {\n",
              "        text-align: right;\n",
              "    }\n",
              "</style>\n",
              "<table border=\"1\" class=\"dataframe\">\n",
              "  <thead>\n",
              "    <tr style=\"text-align: right;\">\n",
              "      <th></th>\n",
              "      <th>Unnamed: 0</th>\n",
              "      <th>Category</th>\n",
              "      <th>Age</th>\n",
              "      <th>Sex</th>\n",
              "      <th>ALB</th>\n",
              "      <th>ALP</th>\n",
              "      <th>ALT</th>\n",
              "      <th>AST</th>\n",
              "      <th>BIL</th>\n",
              "      <th>CHE</th>\n",
              "      <th>CHOL</th>\n",
              "      <th>CREA</th>\n",
              "      <th>GGT</th>\n",
              "      <th>PROT</th>\n",
              "    </tr>\n",
              "  </thead>\n",
              "  <tbody>\n",
              "    <tr>\n",
              "      <th>0</th>\n",
              "      <td>1</td>\n",
              "      <td>0=Blood Donor</td>\n",
              "      <td>32</td>\n",
              "      <td>m</td>\n",
              "      <td>38.5</td>\n",
              "      <td>52.5</td>\n",
              "      <td>7.7</td>\n",
              "      <td>22.1</td>\n",
              "      <td>7.5</td>\n",
              "      <td>6.93</td>\n",
              "      <td>3.23</td>\n",
              "      <td>106.0</td>\n",
              "      <td>12.1</td>\n",
              "      <td>69.0</td>\n",
              "    </tr>\n",
              "    <tr>\n",
              "      <th>1</th>\n",
              "      <td>2</td>\n",
              "      <td>0=Blood Donor</td>\n",
              "      <td>32</td>\n",
              "      <td>m</td>\n",
              "      <td>38.5</td>\n",
              "      <td>70.3</td>\n",
              "      <td>18.0</td>\n",
              "      <td>24.7</td>\n",
              "      <td>3.9</td>\n",
              "      <td>11.17</td>\n",
              "      <td>4.80</td>\n",
              "      <td>74.0</td>\n",
              "      <td>15.6</td>\n",
              "      <td>76.5</td>\n",
              "    </tr>\n",
              "    <tr>\n",
              "      <th>2</th>\n",
              "      <td>3</td>\n",
              "      <td>0=Blood Donor</td>\n",
              "      <td>32</td>\n",
              "      <td>m</td>\n",
              "      <td>46.9</td>\n",
              "      <td>74.7</td>\n",
              "      <td>36.2</td>\n",
              "      <td>52.6</td>\n",
              "      <td>6.1</td>\n",
              "      <td>8.84</td>\n",
              "      <td>5.20</td>\n",
              "      <td>86.0</td>\n",
              "      <td>33.2</td>\n",
              "      <td>79.3</td>\n",
              "    </tr>\n",
              "    <tr>\n",
              "      <th>3</th>\n",
              "      <td>4</td>\n",
              "      <td>0=Blood Donor</td>\n",
              "      <td>32</td>\n",
              "      <td>m</td>\n",
              "      <td>43.2</td>\n",
              "      <td>52.0</td>\n",
              "      <td>30.6</td>\n",
              "      <td>22.6</td>\n",
              "      <td>18.9</td>\n",
              "      <td>7.33</td>\n",
              "      <td>4.74</td>\n",
              "      <td>80.0</td>\n",
              "      <td>33.8</td>\n",
              "      <td>75.7</td>\n",
              "    </tr>\n",
              "    <tr>\n",
              "      <th>4</th>\n",
              "      <td>5</td>\n",
              "      <td>0=Blood Donor</td>\n",
              "      <td>32</td>\n",
              "      <td>m</td>\n",
              "      <td>39.2</td>\n",
              "      <td>74.1</td>\n",
              "      <td>32.6</td>\n",
              "      <td>24.8</td>\n",
              "      <td>9.6</td>\n",
              "      <td>9.15</td>\n",
              "      <td>4.32</td>\n",
              "      <td>76.0</td>\n",
              "      <td>29.9</td>\n",
              "      <td>68.7</td>\n",
              "    </tr>\n",
              "  </tbody>\n",
              "</table>\n",
              "</div>\n",
              "    <div class=\"colab-df-buttons\">\n",
              "\n",
              "  <div class=\"colab-df-container\">\n",
              "    <button class=\"colab-df-convert\" onclick=\"convertToInteractive('df-a95c37f1-8eca-4341-8fea-ad92b783a068')\"\n",
              "            title=\"Convert this dataframe to an interactive table.\"\n",
              "            style=\"display:none;\">\n",
              "\n",
              "  <svg xmlns=\"http://www.w3.org/2000/svg\" height=\"24px\" viewBox=\"0 -960 960 960\">\n",
              "    <path d=\"M120-120v-720h720v720H120Zm60-500h600v-160H180v160Zm220 220h160v-160H400v160Zm0 220h160v-160H400v160ZM180-400h160v-160H180v160Zm440 0h160v-160H620v160ZM180-180h160v-160H180v160Zm440 0h160v-160H620v160Z\"/>\n",
              "  </svg>\n",
              "    </button>\n",
              "\n",
              "  <style>\n",
              "    .colab-df-container {\n",
              "      display:flex;\n",
              "      gap: 12px;\n",
              "    }\n",
              "\n",
              "    .colab-df-convert {\n",
              "      background-color: #E8F0FE;\n",
              "      border: none;\n",
              "      border-radius: 50%;\n",
              "      cursor: pointer;\n",
              "      display: none;\n",
              "      fill: #1967D2;\n",
              "      height: 32px;\n",
              "      padding: 0 0 0 0;\n",
              "      width: 32px;\n",
              "    }\n",
              "\n",
              "    .colab-df-convert:hover {\n",
              "      background-color: #E2EBFA;\n",
              "      box-shadow: 0px 1px 2px rgba(60, 64, 67, 0.3), 0px 1px 3px 1px rgba(60, 64, 67, 0.15);\n",
              "      fill: #174EA6;\n",
              "    }\n",
              "\n",
              "    .colab-df-buttons div {\n",
              "      margin-bottom: 4px;\n",
              "    }\n",
              "\n",
              "    [theme=dark] .colab-df-convert {\n",
              "      background-color: #3B4455;\n",
              "      fill: #D2E3FC;\n",
              "    }\n",
              "\n",
              "    [theme=dark] .colab-df-convert:hover {\n",
              "      background-color: #434B5C;\n",
              "      box-shadow: 0px 1px 3px 1px rgba(0, 0, 0, 0.15);\n",
              "      filter: drop-shadow(0px 1px 2px rgba(0, 0, 0, 0.3));\n",
              "      fill: #FFFFFF;\n",
              "    }\n",
              "  </style>\n",
              "\n",
              "    <script>\n",
              "      const buttonEl =\n",
              "        document.querySelector('#df-a95c37f1-8eca-4341-8fea-ad92b783a068 button.colab-df-convert');\n",
              "      buttonEl.style.display =\n",
              "        google.colab.kernel.accessAllowed ? 'block' : 'none';\n",
              "\n",
              "      async function convertToInteractive(key) {\n",
              "        const element = document.querySelector('#df-a95c37f1-8eca-4341-8fea-ad92b783a068');\n",
              "        const dataTable =\n",
              "          await google.colab.kernel.invokeFunction('convertToInteractive',\n",
              "                                                    [key], {});\n",
              "        if (!dataTable) return;\n",
              "\n",
              "        const docLinkHtml = 'Like what you see? Visit the ' +\n",
              "          '<a target=\"_blank\" href=https://colab.research.google.com/notebooks/data_table.ipynb>data table notebook</a>'\n",
              "          + ' to learn more about interactive tables.';\n",
              "        element.innerHTML = '';\n",
              "        dataTable['output_type'] = 'display_data';\n",
              "        await google.colab.output.renderOutput(dataTable, element);\n",
              "        const docLink = document.createElement('div');\n",
              "        docLink.innerHTML = docLinkHtml;\n",
              "        element.appendChild(docLink);\n",
              "      }\n",
              "    </script>\n",
              "  </div>\n",
              "\n",
              "\n",
              "<div id=\"df-efb9ab23-b2ff-4c00-b36a-de679b91f962\">\n",
              "  <button class=\"colab-df-quickchart\" onclick=\"quickchart('df-efb9ab23-b2ff-4c00-b36a-de679b91f962')\"\n",
              "            title=\"Suggest charts\"\n",
              "            style=\"display:none;\">\n",
              "\n",
              "<svg xmlns=\"http://www.w3.org/2000/svg\" height=\"24px\"viewBox=\"0 0 24 24\"\n",
              "     width=\"24px\">\n",
              "    <g>\n",
              "        <path d=\"M19 3H5c-1.1 0-2 .9-2 2v14c0 1.1.9 2 2 2h14c1.1 0 2-.9 2-2V5c0-1.1-.9-2-2-2zM9 17H7v-7h2v7zm4 0h-2V7h2v10zm4 0h-2v-4h2v4z\"/>\n",
              "    </g>\n",
              "</svg>\n",
              "  </button>\n",
              "\n",
              "<style>\n",
              "  .colab-df-quickchart {\n",
              "      --bg-color: #E8F0FE;\n",
              "      --fill-color: #1967D2;\n",
              "      --hover-bg-color: #E2EBFA;\n",
              "      --hover-fill-color: #174EA6;\n",
              "      --disabled-fill-color: #AAA;\n",
              "      --disabled-bg-color: #DDD;\n",
              "  }\n",
              "\n",
              "  [theme=dark] .colab-df-quickchart {\n",
              "      --bg-color: #3B4455;\n",
              "      --fill-color: #D2E3FC;\n",
              "      --hover-bg-color: #434B5C;\n",
              "      --hover-fill-color: #FFFFFF;\n",
              "      --disabled-bg-color: #3B4455;\n",
              "      --disabled-fill-color: #666;\n",
              "  }\n",
              "\n",
              "  .colab-df-quickchart {\n",
              "    background-color: var(--bg-color);\n",
              "    border: none;\n",
              "    border-radius: 50%;\n",
              "    cursor: pointer;\n",
              "    display: none;\n",
              "    fill: var(--fill-color);\n",
              "    height: 32px;\n",
              "    padding: 0;\n",
              "    width: 32px;\n",
              "  }\n",
              "\n",
              "  .colab-df-quickchart:hover {\n",
              "    background-color: var(--hover-bg-color);\n",
              "    box-shadow: 0 1px 2px rgba(60, 64, 67, 0.3), 0 1px 3px 1px rgba(60, 64, 67, 0.15);\n",
              "    fill: var(--button-hover-fill-color);\n",
              "  }\n",
              "\n",
              "  .colab-df-quickchart-complete:disabled,\n",
              "  .colab-df-quickchart-complete:disabled:hover {\n",
              "    background-color: var(--disabled-bg-color);\n",
              "    fill: var(--disabled-fill-color);\n",
              "    box-shadow: none;\n",
              "  }\n",
              "\n",
              "  .colab-df-spinner {\n",
              "    border: 2px solid var(--fill-color);\n",
              "    border-color: transparent;\n",
              "    border-bottom-color: var(--fill-color);\n",
              "    animation:\n",
              "      spin 1s steps(1) infinite;\n",
              "  }\n",
              "\n",
              "  @keyframes spin {\n",
              "    0% {\n",
              "      border-color: transparent;\n",
              "      border-bottom-color: var(--fill-color);\n",
              "      border-left-color: var(--fill-color);\n",
              "    }\n",
              "    20% {\n",
              "      border-color: transparent;\n",
              "      border-left-color: var(--fill-color);\n",
              "      border-top-color: var(--fill-color);\n",
              "    }\n",
              "    30% {\n",
              "      border-color: transparent;\n",
              "      border-left-color: var(--fill-color);\n",
              "      border-top-color: var(--fill-color);\n",
              "      border-right-color: var(--fill-color);\n",
              "    }\n",
              "    40% {\n",
              "      border-color: transparent;\n",
              "      border-right-color: var(--fill-color);\n",
              "      border-top-color: var(--fill-color);\n",
              "    }\n",
              "    60% {\n",
              "      border-color: transparent;\n",
              "      border-right-color: var(--fill-color);\n",
              "    }\n",
              "    80% {\n",
              "      border-color: transparent;\n",
              "      border-right-color: var(--fill-color);\n",
              "      border-bottom-color: var(--fill-color);\n",
              "    }\n",
              "    90% {\n",
              "      border-color: transparent;\n",
              "      border-bottom-color: var(--fill-color);\n",
              "    }\n",
              "  }\n",
              "</style>\n",
              "\n",
              "  <script>\n",
              "    async function quickchart(key) {\n",
              "      const quickchartButtonEl =\n",
              "        document.querySelector('#' + key + ' button');\n",
              "      quickchartButtonEl.disabled = true;  // To prevent multiple clicks.\n",
              "      quickchartButtonEl.classList.add('colab-df-spinner');\n",
              "      try {\n",
              "        const charts = await google.colab.kernel.invokeFunction(\n",
              "            'suggestCharts', [key], {});\n",
              "      } catch (error) {\n",
              "        console.error('Error during call to suggestCharts:', error);\n",
              "      }\n",
              "      quickchartButtonEl.classList.remove('colab-df-spinner');\n",
              "      quickchartButtonEl.classList.add('colab-df-quickchart-complete');\n",
              "    }\n",
              "    (() => {\n",
              "      let quickchartButtonEl =\n",
              "        document.querySelector('#df-efb9ab23-b2ff-4c00-b36a-de679b91f962 button');\n",
              "      quickchartButtonEl.style.display =\n",
              "        google.colab.kernel.accessAllowed ? 'block' : 'none';\n",
              "    })();\n",
              "  </script>\n",
              "</div>\n",
              "    </div>\n",
              "  </div>\n"
            ]
          },
          "metadata": {},
          "execution_count": 77
        }
      ]
    },
    {
      "cell_type": "code",
      "source": [
        "df.isnull().sum()"
      ],
      "metadata": {
        "colab": {
          "base_uri": "https://localhost:8080/"
        },
        "id": "jH20OCjC97vM",
        "outputId": "f96da697-ed3f-4679-d2ee-ad08cd18cc0e"
      },
      "execution_count": null,
      "outputs": [
        {
          "output_type": "execute_result",
          "data": {
            "text/plain": [
              "Unnamed: 0     0\n",
              "Category       0\n",
              "Age            0\n",
              "Sex            0\n",
              "ALB            2\n",
              "ALP           20\n",
              "ALT            3\n",
              "AST            2\n",
              "BIL            0\n",
              "CHE            0\n",
              "CHOL          11\n",
              "CREA           1\n",
              "GGT            0\n",
              "PROT           1\n",
              "dtype: int64"
            ]
          },
          "metadata": {},
          "execution_count": 79
        }
      ]
    },
    {
      "cell_type": "code",
      "source": [
        "df.columns"
      ],
      "metadata": {
        "colab": {
          "base_uri": "https://localhost:8080/"
        },
        "id": "XlsJwcaQ-lk-",
        "outputId": "ff27502e-ca4b-46d2-e69c-a2a09b748fdb"
      },
      "execution_count": null,
      "outputs": [
        {
          "output_type": "execute_result",
          "data": {
            "text/plain": [
              "Index(['Unnamed: 0', 'Category', 'Age', 'Sex', 'ALB', 'ALP', 'ALT', 'AST',\n",
              "       'BIL', 'CHE', 'CHOL', 'CREA', 'GGT', 'PROT'],\n",
              "      dtype='object')"
            ]
          },
          "metadata": {},
          "execution_count": 80
        }
      ]
    },
    {
      "cell_type": "code",
      "source": [
        "df.fillna(df.mean(), inplace=True)"
      ],
      "metadata": {
        "colab": {
          "base_uri": "https://localhost:8080/"
        },
        "id": "cuPIya7qAWh7",
        "outputId": "a24c0b4d-b14a-432a-ba98-68bbd346184c"
      },
      "execution_count": null,
      "outputs": [
        {
          "output_type": "stream",
          "name": "stderr",
          "text": [
            "<ipython-input-81-bf934754a5b1>:1: FutureWarning: The default value of numeric_only in DataFrame.mean is deprecated. In a future version, it will default to False. In addition, specifying 'numeric_only=None' is deprecated. Select only valid columns or specify the value of numeric_only to silence this warning.\n",
            "  df.fillna(df.mean(), inplace=True)\n"
          ]
        }
      ]
    },
    {
      "cell_type": "code",
      "source": [
        "df.isnull().sum()"
      ],
      "metadata": {
        "colab": {
          "base_uri": "https://localhost:8080/"
        },
        "id": "syinQZmoBmBJ",
        "outputId": "96b4d8a5-4264-461e-9da3-7786adcaf9a3"
      },
      "execution_count": null,
      "outputs": [
        {
          "output_type": "execute_result",
          "data": {
            "text/plain": [
              "Unnamed: 0    0\n",
              "Category      0\n",
              "Age           0\n",
              "Sex           0\n",
              "ALB           0\n",
              "ALP           0\n",
              "ALT           0\n",
              "AST           0\n",
              "BIL           0\n",
              "CHE           0\n",
              "CHOL          0\n",
              "CREA          0\n",
              "GGT           0\n",
              "PROT          0\n",
              "dtype: int64"
            ]
          },
          "metadata": {},
          "execution_count": 82
        }
      ]
    },
    {
      "cell_type": "code",
      "source": [
        "from sklearn.model_selection import train_test_split\n",
        "from sklearn.linear_model import LinearRegression, Ridge, Lasso\n",
        "from sklearn.preprocessing import PolynomialFeatures\n",
        "from sklearn.metrics import mean_squared_error, r2_score\n",
        "from sklearn.model_selection import cross_val_score\n",
        "from statsmodels.stats.outliers_influence import variance_inflation_factor\n",
        "from sklearn.model_selection import GridSearchCV"
      ],
      "metadata": {
        "id": "DCTgnvtXBqtT"
      },
      "execution_count": null,
      "outputs": []
    },
    {
      "cell_type": "code",
      "source": [
        "X_simple = df[['CREA']]\n",
        "y_simple = df['PROT']"
      ],
      "metadata": {
        "id": "GzwPcaXiCmpK"
      },
      "execution_count": null,
      "outputs": []
    },
    {
      "cell_type": "code",
      "source": [
        "model_simple = LinearRegression()\n",
        "model_simple.fit(X_simple, y_simple)\n",
        "print(f\"Simple Linear Regression - Coefficient: {model_simple.coef_[0]}, Intercept: {model_simple.intercept_}\")"
      ],
      "metadata": {
        "colab": {
          "base_uri": "https://localhost:8080/"
        },
        "id": "HdGJwmBWC1zc",
        "outputId": "4ddbe4e1-3272-4d4c-e5d7-03fac279a020"
      },
      "execution_count": null,
      "outputs": [
        {
          "output_type": "stream",
          "name": "stdout",
          "text": [
            "Simple Linear Regression - Coefficient: -0.003483893152979068, Intercept: 72.32727972675376\n"
          ]
        }
      ]
    },
    {
      "cell_type": "code",
      "source": [
        "y_train_pred_simple = model_simple.predict(X_simple)\n",
        "train_mse_simple = mean_squared_error(y_simple, y_train_pred_simple)\n",
        "train_r2_simple = r2_score(y_simple, y_train_pred_simple)\n",
        "X_test_simple = X_test[['CREA']]\n",
        "y_test_pred_simple = model_simple.predict(X_test_simple)\n",
        "test_mse_simple = mean_squared_error(y_test, y_test_pred_simple)\n",
        "test_r2_simple = r2_score(y_test, y_test_pred_simple)\n",
        "print(f\"Simple Linear Regression Metrics:\")\n",
        "print(f\"Train Mean Squared Error (MSE): {train_mse_simple}\")\n",
        "print(f\"Train R-squared (R2): {train_r2_simple}\")\n",
        "print(f\"Test Mean Squared Error (MSE): {test_mse_simple}\")\n",
        "print(f\"Test R-squared (R2): {test_r2_simple}\")"
      ],
      "metadata": {
        "colab": {
          "base_uri": "https://localhost:8080/"
        },
        "id": "U_8B5N9c_WHq",
        "outputId": "2e1ae509-91cc-4d14-895b-6c3609dd005d"
      },
      "execution_count": null,
      "outputs": [
        {
          "output_type": "stream",
          "name": "stdout",
          "text": [
            "Simple Linear Regression Metrics:\n",
            "Train Mean Squared Error (MSE): 29.063553222192333\n",
            "Train R-squared (R2): 0.0010310815097900328\n",
            "Test Mean Squared Error (MSE): 31.550638136502005\n",
            "Test R-squared (R2): -0.007019901329967215\n"
          ]
        }
      ]
    },
    {
      "cell_type": "code",
      "source": [
        "# Calculate VIF\n",
        "# Exclude columns: 'Category', 'Age', 'Sex'\n",
        "X_vif = df.drop([ 'Category', 'Age', 'Sex'], axis=1)\n",
        "vif_data = pd.DataFrame()\n",
        "vif_data[\"Variable\"] = X_vif.columns\n",
        "vif_data[\"VIF\"] = [variance_inflation_factor(X_vif.values, i) for i in range(X_vif.shape[1])]\n",
        "print(\"VIF Values:\")\n",
        "print(vif_data)"
      ],
      "metadata": {
        "colab": {
          "base_uri": "https://localhost:8080/"
        },
        "id": "KkIi7MvpDG5k",
        "outputId": "c47a4959-a3fe-46ba-c136-833fb1bc9a0d"
      },
      "execution_count": null,
      "outputs": [
        {
          "output_type": "stream",
          "name": "stdout",
          "text": [
            "VIF Values:\n",
            "      Variable         VIF\n",
            "0   Unnamed: 0    4.821647\n",
            "1          ALB   91.848300\n",
            "2          ALP   10.524429\n",
            "3          ALT    2.711856\n",
            "4          AST    3.621866\n",
            "5          BIL    1.647761\n",
            "6          CHE   22.813947\n",
            "7         CHOL   30.465820\n",
            "8         CREA    3.784397\n",
            "9          GGT    2.667932\n",
            "10        PROT  138.129550\n"
          ]
        }
      ]
    },
    {
      "cell_type": "code",
      "source": [
        "selected_predictors = vif_data[vif_data[\"VIF\"] < 5][\"Variable\"].tolist()"
      ],
      "metadata": {
        "id": "vmwV3OQcEs2B"
      },
      "execution_count": null,
      "outputs": []
    },
    {
      "cell_type": "code",
      "source": [
        "X_train, X_test, y_train, y_test = train_test_split(df[selected_predictors], df['PROT'], test_size=0.2, random_state=42)"
      ],
      "metadata": {
        "id": "-b0QFvDAFBU8"
      },
      "execution_count": null,
      "outputs": []
    },
    {
      "cell_type": "code",
      "source": [
        "# Multiple Linear Regression\n",
        "model_multiple = LinearRegression()\n",
        "model_multiple.fit(X_train, y_train)\n",
        "print(f\"Multiple Linear Regression - Coefficients: {model_multiple.coef_}, Intercept: {model_multiple.intercept_}\")"
      ],
      "metadata": {
        "colab": {
          "base_uri": "https://localhost:8080/"
        },
        "id": "xlkUFsNQFZku",
        "outputId": "6d0cea1f-e530-4127-9903-457cedd1c351"
      },
      "execution_count": null,
      "outputs": [
        {
          "output_type": "stream",
          "name": "stdout",
          "text": [
            "Multiple Linear Regression - Coefficients: [-0.00483413 -0.0032028   0.01203752 -0.02013256 -0.00455176  0.00685514], Intercept: 73.45629493054574\n"
          ]
        }
      ]
    },
    {
      "cell_type": "code",
      "source": [
        "y_train_pred = model_multiple.predict(X_train)\n",
        "y_test_pred = model_multiple.predict(X_test)"
      ],
      "metadata": {
        "id": "BgaNvG947I74"
      },
      "execution_count": null,
      "outputs": []
    },
    {
      "cell_type": "code",
      "source": [
        "# Evaluate Multiple Linear Regression\n",
        "train_mse_multiple = mean_squared_error(y_train, y_train_pred)\n",
        "test_mse_multiple = mean_squared_error(y_test, y_test_pred)\n",
        "train_r2_multiple = r2_score(y_train, y_train_pred)\n",
        "test_r2_multiple = r2_score(y_test, y_test_pred)\n",
        "# Display results\n",
        "print(f\"Multiple Linear Regression - Train MSE: {train_mse_multiple}, Test MSE: {test_mse_multiple}\")\n",
        "print(f\"Multiple Linear Regression - Train R-squared: {train_r2_multiple}, Test R-squared: {test_r2_multiple}\")"
      ],
      "metadata": {
        "colab": {
          "base_uri": "https://localhost:8080/"
        },
        "id": "y12vvLhu67pr",
        "outputId": "b7f34e76-e700-460e-b51b-eb8303d16741"
      },
      "execution_count": null,
      "outputs": [
        {
          "output_type": "stream",
          "name": "stdout",
          "text": [
            "Multiple Linear Regression - Train MSE: 27.563578383755363, Test MSE: 32.92343971821463\n",
            "Multiple Linear Regression - Train R-squared: 0.03202646605792425, Test R-squared: -0.05083640061536454\n"
          ]
        }
      ]
    },
    {
      "cell_type": "code",
      "source": [
        "#Polynomial Regression\n",
        "highest_vif_attribute = vif_data.loc[vif_data[\"VIF\"].idxmax()][\"Variable\"]\n",
        "for degree in [2, 3, 4]:\n",
        "    poly = PolynomialFeatures(degree=degree)\n",
        "    X_poly = poly.fit_transform(df[[highest_vif_attribute]])\n",
        "    model_poly = LinearRegression()\n",
        "    model_poly.fit(X_poly, y_simple)\n",
        "    y_poly_pred = model_poly.predict(X_poly)\n",
        "\n",
        "    print(f\"Polynomial Regression (Degree {degree}) - Coefficients: {model_poly.coef_}, Intercept: {model_poly.intercept_}\")"
      ],
      "metadata": {
        "colab": {
          "base_uri": "https://localhost:8080/"
        },
        "id": "Y4PeyCfUFzd5",
        "outputId": "90427b50-913b-43c2-e081-8d57aebe3a5f"
      },
      "execution_count": null,
      "outputs": [
        {
          "output_type": "stream",
          "name": "stdout",
          "text": [
            "Polynomial Regression (Degree 2) - Coefficients: [0. 1. 0.], Intercept: -1.8616219676914625e-12\n",
            "Polynomial Regression (Degree 3) - Coefficients: [0.00000000e+00 1.00000000e+00 1.93577793e-14 1.11022302e-16], Intercept: 8.640199666842818e-11\n",
            "Polynomial Regression (Degree 4) - Coefficients: [ 0.00000000e+00  1.00000000e+00 -3.94315587e-12  6.00491878e-14\n",
            " -2.22044605e-16], Intercept: 1.5917549944788334e-08\n"
          ]
        }
      ]
    },
    {
      "cell_type": "code",
      "source": [
        "    # Evaluate Polynomial Regression\n",
        "    mse_poly = mean_squared_error(y_simple, y_poly_pred)\n",
        "    r2_poly = r2_score(y_simple, y_poly_pred)\n",
        "\n",
        "    # Display results\n",
        "    print(f\"Polynomial Regression (Degree {degree}) - MSE: {mse_poly}, R-squared: {r2_poly}\")"
      ],
      "metadata": {
        "colab": {
          "base_uri": "https://localhost:8080/"
        },
        "id": "dEHzRg_G7jeg",
        "outputId": "f18b4355-8cf7-4606-b18c-0321cf4df316"
      },
      "execution_count": null,
      "outputs": [
        {
          "output_type": "stream",
          "name": "stdout",
          "text": [
            "Polynomial Regression (Degree 4) - MSE: 6.090942271186535e-19, R-squared: 1.0\n"
          ]
        }
      ]
    },
    {
      "cell_type": "code",
      "source": [
        "#Ridge Regression Model\n",
        "from sklearn.linear_model import Ridge\n",
        "from sklearn.model_selection import GridSearchCV\n",
        "\n",
        "# Assume 'ALB' is the attribute with the highest VIF\n",
        "highest_vif_attribute_ridge = 'ALB'\n",
        "\n",
        "# Define x and y\n",
        "x = df[['ALB']]\n",
        "y = df['PROT']\n",
        "\n",
        "# Ridge Regression with GridSearchCV\n",
        "ridge = Ridge()\n",
        "parameters = {'alpha': [0.001, 0.01, 1, 5, 10, 20, 30, 35, 40, 45, 50, 55, 100, 150]}\n",
        "ridge_regressor = GridSearchCV(ridge, parameters, scoring='neg_mean_squared_error', cv=5)\n",
        "\n",
        "ridge_regressor.fit(x, y)\n",
        "best_alpha_ridge = ridge_regressor.best_params_['alpha']\n",
        "model_ridge = Ridge(alpha=best_alpha_ridge)\n",
        "model_ridge.fit(X_train, y_train)\n",
        "y_train_pred_ridge = model_ridge.predict(X_train)\n",
        "y_test_pred_ridge = model_ridge.predict(X_test)\n",
        "\n",
        "\n",
        "print(\"Best Parameters:\", ridge_regressor.best_params_)\n",
        "print(\"Best Score:\", ridge_regressor.best_score_)"
      ],
      "metadata": {
        "colab": {
          "base_uri": "https://localhost:8080/"
        },
        "id": "Dj4CVW9bF6Ap",
        "outputId": "524de012-0b61-4633-f214-1cb02f00166a"
      },
      "execution_count": null,
      "outputs": [
        {
          "output_type": "stream",
          "name": "stdout",
          "text": [
            "Best Parameters: {'alpha': 0.001}\n",
            "Best Score: -20.94356479581198\n"
          ]
        }
      ]
    },
    {
      "cell_type": "code",
      "source": [
        "# Evaluate Ridge Regression\n",
        "train_mse_ridge = mean_squared_error(y_train, y_train_pred_ridge)\n",
        "test_mse_ridge = mean_squared_error(y_test, y_test_pred_ridge)\n",
        "train_r2_ridge = r2_score(y_train, y_train_pred_ridge)\n",
        "test_r2_ridge = r2_score(y_test, y_test_pred_ridge)\n",
        "print(f\"Ridge Regression - Train MSE: {train_mse_ridge}, Test MSE: {test_mse_ridge}\")\n",
        "print(f\"Ridge Regression - Train R-squared: {train_r2_ridge}, Test R-squared: {test_r2_ridge}\")"
      ],
      "metadata": {
        "colab": {
          "base_uri": "https://localhost:8080/"
        },
        "id": "TD8GmTAU8qPT",
        "outputId": "41440ec1-cd0f-4042-f151-0612de46c0fe"
      },
      "execution_count": null,
      "outputs": [
        {
          "output_type": "stream",
          "name": "stdout",
          "text": [
            "Ridge Regression - Train MSE: 27.56357838375536, Test MSE: 32.92343970845243\n",
            "Ridge Regression - Train R-squared: 0.03202646605792436, Test R-squared: -0.05083640030377867\n"
          ]
        }
      ]
    },
    {
      "cell_type": "code",
      "source": [
        "# Assuming 'selected_predictors' is the list of predictors based on VIF\n",
        "X_train, X_test, y_train, y_test = train_test_split(df[selected_predictors], df['PROT'], test_size=0.2, random_state=42)\n"
      ],
      "metadata": {
        "id": "jFOIoxLMNSYc"
      },
      "execution_count": null,
      "outputs": []
    },
    {
      "cell_type": "code",
      "source": [
        "# Lasso Regression with GridSearchCV\n",
        "lasso = Lasso()\n",
        "parameters = {'alpha': [0.001, 0.01, 1, 5, 10, 20, 30, 35, 40, 45, 50, 55, 100, 150]}\n",
        "lasso_regressor = GridSearchCV(lasso, parameters, scoring='neg_mean_squared_error', cv=5)\n",
        "\n",
        "# Fit the Lasso model on all selected predictors\n",
        "lasso_regressor.fit(X_train, y_train)\n",
        "best_alpha_lasso = lasso_regressor.best_params_['alpha']\n",
        "model_lasso = Lasso(alpha=best_alpha_lasso)\n",
        "model_lasso.fit(X_train, y_train)\n",
        "y_train_pred_lasso = model_lasso.predict(X_train)\n",
        "y_test_pred_lasso = model_lasso.predict(X_test)\n",
        "\n",
        "print(\"Best Parameters:\", lasso_regressor.best_params_)\n",
        "print(\"Best Score:\", lasso_regressor.best_score_)\n",
        "\n",
        "# Assuming 'x_test' is your test set\n",
        "prediction_lasso = lasso_regressor.predict(X_test)\n"
      ],
      "metadata": {
        "colab": {
          "base_uri": "https://localhost:8080/"
        },
        "id": "wlJCb4rWNaDL",
        "outputId": "c6ca93d1-86f0-4eff-ad7d-f2cffd335f92"
      },
      "execution_count": null,
      "outputs": [
        {
          "output_type": "stream",
          "name": "stdout",
          "text": [
            "Best Parameters: {'alpha': 30}\n",
            "Best Score: -28.209795849817265\n"
          ]
        }
      ]
    },
    {
      "cell_type": "code",
      "source": [
        "# Evaluate Lasso Regression\n",
        "train_mse_lasso = mean_squared_error(y_train, y_train_pred_lasso)\n",
        "test_mse_lasso = mean_squared_error(y_test, y_test_pred_lasso)\n",
        "train_r2_lasso = r2_score(y_train, y_train_pred_lasso)\n",
        "test_r2_lasso = r2_score(y_test, y_test_pred_lasso)\n",
        "print(f\"Lasso Regression - Train MSE: {train_mse_lasso}, Test MSE: {test_mse_lasso}\")\n",
        "print(f\"Lasso Regression - Train R-squared: {train_r2_lasso}, Test R-squared: {test_r2_lasso}\")"
      ],
      "metadata": {
        "colab": {
          "base_uri": "https://localhost:8080/"
        },
        "id": "ZrTC3eJy9LMT",
        "outputId": "bacc7e2e-202f-47a9-a05b-32cc7476b802"
      },
      "execution_count": null,
      "outputs": [
        {
          "output_type": "stream",
          "name": "stdout",
          "text": [
            "Lasso Regression - Train MSE: 27.986422268179826, Test MSE: 31.71034547529646\n",
            "Lasso Regression - Train R-squared: 0.0171770991356176, Test R-squared: -0.012117372508161806\n"
          ]
        }
      ]
    },
    {
      "cell_type": "code",
      "source": [
        "# N-fold cross-validation\n",
        "n_folds = 5\n",
        "cv_scores = cross_val_score(model_multiple, X_train, y_train, cv=n_folds, scoring='neg_mean_squared_error')\n",
        "cv_mse_mean = np.mean(cv_scores)\n",
        "print(f\"{n_folds}-fold Cross-Validation Mean Squared Error: {cv_scores.mean()}\")\n"
      ],
      "metadata": {
        "colab": {
          "base_uri": "https://localhost:8080/"
        },
        "id": "zo_w_ksHNpTk",
        "outputId": "f7d0577d-c40f-4cfb-aa6b-8354a678416e"
      },
      "execution_count": null,
      "outputs": [
        {
          "output_type": "stream",
          "name": "stdout",
          "text": [
            "5-fold Cross-Validation Mean Squared Error: -29.66046335125592\n"
          ]
        }
      ]
    },
    {
      "cell_type": "code",
      "source": [
        "model_names = ['Simple Linear', 'Multiple Linear', 'Polynomial (Degree 2)', 'Ridge', 'Lasso']\n",
        "train_mse_values = [train_mse_simple, train_mse_multiple, mse_poly, train_mse_ridge, train_mse_lasso]\n",
        "test_mse_values = [test_mse_simple, test_mse_multiple, mse_poly, test_mse_ridge, test_mse_lasso]\n",
        "train_r2_values = [train_r2_simple, train_r2_multiple, r2_poly, train_r2_ridge, train_r2_lasso]\n",
        "test_r2_values = [test_r2_simple, test_r2_multiple, r2_poly, test_r2_ridge, test_r2_lasso]\n",
        "cv_mse_values = [cv_mse_mean] * len(model_names)"
      ],
      "metadata": {
        "id": "aoBOpbwZ-AXx"
      },
      "execution_count": null,
      "outputs": []
    },
    {
      "cell_type": "code",
      "source": [
        "fig, ax1 = plt.subplots(figsize=(12, 8))\n",
        "ax1.set_xlabel('Models')\n",
        "ax1.set_ylabel('MSE', color='tab:blue')\n",
        "ax1.plot(model_names, train_mse_values, label='Train MSE', color='tab:blue', marker='o')\n",
        "ax1.plot(model_names, test_mse_values, label='Test MSE', color='tab:orange', marker='o')\n",
        "ax1.tick_params(axis='y', labelcolor='tab:blue')\n",
        "ax1.legend(loc='upper left')\n",
        "ax2 = ax1.twinx()  # instantiate a second axes that shares the same x-axis\n",
        "ax2.set_ylabel('R-squared', color='tab:green')\n",
        "ax2.plot(model_names, train_r2_values, label='Train R-squared', color='tab:green', marker='s')\n",
        "ax2.plot(model_names, test_r2_values, label='Test R-squared', color='tab:red', marker='s')\n",
        "ax2.tick_params(axis='y', labelcolor='tab:green')\n",
        "ax2.legend(loc='upper right')\n",
        "fig.tight_layout()\n",
        "plt.title('Model Comparison - MSE and R-squared')\n",
        "plt.show()"
      ],
      "metadata": {
        "colab": {
          "base_uri": "https://localhost:8080/",
          "height": 457
        },
        "id": "gqKFKnaZAp8E",
        "outputId": "b34a8559-3748-4298-c417-920107036dd0"
      },
      "execution_count": null,
      "outputs": [
        {
          "output_type": "display_data",
          "data": {
            "text/plain": [
              "<Figure size 1200x800 with 2 Axes>"
            ],
            "image/png": "[encoded data removed]"
          },
          "metadata": {}
        }
      ]
    }
  ]
}